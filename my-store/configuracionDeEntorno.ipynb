{
 "cells": [
  {
   "cell_type": "markdown",
   "metadata": {},
   "source": [
    "## Crear el archivo gitignore \n",
    "  Se puede crear mediante esta pagina -> https://www.toptal.com/developers/gitignore/"
   ]
  },
  {
   "cell_type": "markdown",
   "metadata": {},
   "source": [
    "## Archivo de editorconfig\n",
    "Se recomiendo usar la siguiente extencion -> EditorConfig for VS Code, este es para que todos los desarrolladores que trabajen en el proyecto tengan las mismas configuraciones.\n",
    "\n"
   ]
  },
  {
   "cell_type": "code",
   "execution_count": null,
   "metadata": {
    "vscode": {
     "languageId": "plaintext"
    }
   },
   "outputs": [],
   "source": [
    "# Editor configuration, see https://editorconfig.org\n",
    "root = true\n",
    "\n",
    "[*]\n",
    "charset = utf-8\n",
    "indent_style = space\n",
    "indent_size = 2\n",
    "insert_final_newline = true\n",
    "trim_trailing_whitespace = true\n",
    "\n",
    "[*.js]\n",
    "quote_type = single\n",
    "\n",
    "[*.md]\n",
    "max_line_length = off\n",
    "trim_trailing_whitespace = false\n"
   ]
  },
  {
   "cell_type": "markdown",
   "metadata": {},
   "source": [
    "\n",
    "## Archivo de eslintrc\n",
    "Se adjunta el siguiente codigo: "
   ]
  },
  {
   "cell_type": "code",
   "execution_count": null,
   "metadata": {
    "vscode": {
     "languageId": "plaintext"
    }
   },
   "outputs": [],
   "source": [
    "{\n",
    "  \"parserOptions\": {\n",
    "    \"ecmaVersion\": 2018\n",
    "  },\n",
    "  \"extends\": [\"eslint:recommended\", \"prettier\"],\n",
    "  \"env\": {\n",
    "    \"es6\": true,\n",
    "    \"node\": true,\n",
    "    \"jest\": true\n",
    "  },\n",
    "  \"rules\": {\n",
    "    \"no-console\": \"warn\"\n",
    "  }\n",
    "}\n"
   ]
  },
  {
   "cell_type": "markdown",
   "metadata": {},
   "source": [
    "## Dependencias del Package.json\n",
    "Se deben de instalar algunas dependencias, con el siguiente comando: \n",
    "\n",
    "    1.- npm i nodemon eslint eslint-config-prettier eslint-plugin-prettier prettier -D\n",
    "    2.- npm i express"
   ]
  },
  {
   "cell_type": "code",
   "execution_count": null,
   "metadata": {
    "vscode": {
     "languageId": "plaintext"
    }
   },
   "outputs": [],
   "source": [
    " \"scripts\": {\n",
    "    \"dev\": \"modemon index.js\",\n",
    "    \"start\": \"node index.js\",\n",
    "    \"lint\": \"eslint\"\n",
    "  },"
   ]
  },
  {
   "cell_type": "markdown",
   "metadata": {},
   "source": [
    "### Libreria para el manejo de erroers en Middleware\n",
    "\n",
    "    npm i @hapi/boom\n",
    "\n"
   ]
  }
 ],
 "metadata": {
  "language_info": {
   "name": "python"
  },
  "orig_nbformat": 4
 },
 "nbformat": 4,
 "nbformat_minor": 2
}
